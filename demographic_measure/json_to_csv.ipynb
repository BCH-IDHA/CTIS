{
 "cells": [
  {
   "cell_type": "code",
   "execution_count": 1,
   "id": "2b5e3ced-58d2-4896-a9d2-19fcdbb9b3c8",
   "metadata": {},
   "outputs": [],
   "source": [
    "import pandas as pd\n",
    "import numpy as np\n",
    "import json\n",
    "import pandas \n",
    "import ast\n",
    "import os "
   ]
  },
  {
   "cell_type": "code",
   "execution_count": 2,
   "id": "40a0cae5-b51f-4460-a757-8faa7cdd5cc6",
   "metadata": {},
   "outputs": [],
   "source": [
    "file = '../../datafolder/demographics/demo_diff_weekly_ctis_census_by_country.csv'"
   ]
  },
  {
   "cell_type": "code",
   "execution_count": 3,
   "id": "8fb87248-acbf-496a-aa5b-99ac0a13fcac",
   "metadata": {},
   "outputs": [],
   "source": [
    "# Congo has missing census data so we remove from the dataframe\n",
    "df = pd.read_csv(file)\n",
    "df = df[df['country']!='Congo']"
   ]
  },
  {
   "cell_type": "code",
   "execution_count": null,
   "id": "b48800af-7f88-4d63-9913-ae101e75101e",
   "metadata": {},
   "outputs": [],
   "source": [
    "\"\"\"\n",
    "Each column is an ISO week, with entries in JSON format. Male and female genders each have three values.\n",
    "The first value indicates the young age category, the second being middle age, and the third being elderly.\n",
    "Here, we convert these data to a CSV format where there is a week column, and a column that indicates the \n",
    "gender category.\n",
    "\"\"\"\n",
    "final_df = pd.DataFrame()\n",
    "for country in df['country'].unique():\n",
    "    country_sub = df[df['country']==country].reset_index(drop=True)\n",
    "    for i in range(18, 52):\n",
    "        my_dict = ast.literal_eval(country_sub[str(i)][0])\n",
    "\n",
    "        male = my_dict.get('male')\n",
    "        y_male = male[0]\n",
    "        m_male = male[1]\n",
    "        e_male = male[2]\n",
    "        \n",
    "        female = my_dict.get('female')\n",
    "        y_female = female[0]\n",
    "        m_female = female[1]\n",
    "        e_female = female[2]\n",
    "        \n",
    "        total_diff = my_dict.get('total_diff')\n",
    "        mean_diff = my_dict.get('mean_diff')\n",
    "        \n",
    "        final_df = final_df.append({'Country': country, 'Week': i, 'Group': 'YoungMale', 'Value': y_male}, ignore_index=True)\n",
    "        final_df = final_df.append({'Country': country, 'Week': i, 'Group': 'MiddleMale', 'Value': m_male}, ignore_index=True)\n",
    "        final_df = final_df.append({'Country': country, 'Week': i, 'Group': 'ElderlyMale', 'Value': e_male}, ignore_index=True)\n",
    "        final_df = final_df.append({'Country': country, 'Week': i, 'Group': 'YoungFemale', 'Value': y_female}, ignore_index=True)\n",
    "        final_df = final_df.append({'Country': country, 'Week': i, 'Group': 'MiddleFemale', 'Value': m_female}, ignore_index=True)\n",
    "        final_df = final_df.append({'Country': country, 'Week': i, 'Group': 'ElderlyFemale', 'Value': e_female}, ignore_index=True)\n",
    "        final_df = final_df.append({'Country': country, 'Week': i, 'Group': 'total_diff', 'Value': total_diff}, ignore_index=True)\n",
    "        final_df = final_df.append({'Country': country, 'Week': i, 'Group': 'mean_diff', 'Value': mean_diff}, ignore_index=True)\n",
    "        \n",
    "        #print(i, country)\n",
    "        "
   ]
  },
  {
   "cell_type": "code",
   "execution_count": null,
   "id": "5547b861-62f7-454c-8398-86cba682cce0",
   "metadata": {},
   "outputs": [],
   "source": [
    "final_df.to_csv('../../datafolder/demographics/demo_diff_weekly_ctis_census_by_country_TJV_format.csv', header=True, index=False)"
   ]
  },
  {
   "cell_type": "code",
   "execution_count": null,
   "id": "eb5a0bcc",
   "metadata": {},
   "outputs": [],
   "source": []
  }
 ],
 "metadata": {
  "kernelspec": {
   "display_name": "Python 3",
   "language": "python",
   "name": "python3"
  },
  "language_info": {
   "codemirror_mode": {
    "name": "ipython",
    "version": 3
   },
   "file_extension": ".py",
   "mimetype": "text/x-python",
   "name": "python",
   "nbconvert_exporter": "python",
   "pygments_lexer": "ipython3",
   "version": "3.8.10"
  }
 },
 "nbformat": 4,
 "nbformat_minor": 5
}
